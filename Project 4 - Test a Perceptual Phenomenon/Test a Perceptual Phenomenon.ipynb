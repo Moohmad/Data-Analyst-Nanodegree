{
 "cells": [
  {
   "cell_type": "markdown",
   "metadata": {},
   "source": [
    "### Analyzing the Stroop Effect\n",
    "Perform the analysis in the space below. Remember to follow [the instructions](https://docs.google.com/document/d/1-OkpZLjG_kX9J6LIQ5IltsqMzVWjh36QpnP2RYpVdPU/pub?embedded=True) and review the [project rubric](https://review.udacity.com/#!/rubrics/71/view) before submitting. Once you've completed the analysis and write-up, download this file as a PDF or HTML file, upload that PDF/HTML into the workspace here (click on the orange Jupyter icon in the upper left then Upload), then use the Submit Project button at the bottom of this page. This will create a zip file containing both this .ipynb doc and the PDF/HTML doc that will be submitted for your project.\n",
    "\n",
    "\n",
    "(1) What is the independent variable? What is the dependent variable?"
   ]
  },
  {
   "cell_type": "markdown",
   "metadata": {},
   "source": [
    "**Independent Variable:** Congruent or incongruent condition.\n",
    "\n",
    "**Dependent Variable:** The Amount of time to name the color and complete the test."
   ]
  },
  {
   "cell_type": "markdown",
   "metadata": {},
   "source": [
    "(2) What is an appropriate set of hypotheses for this task? Specify your null and alternative hypotheses, and clearly define any notation used. Justify your choices."
   ]
  },
  {
   "cell_type": "markdown",
   "metadata": {},
   "source": [
    "- **(The Null Hypothesis)**  **$H_{0}$:** There is no difference or noticeable difference in the mean completion time for the congruent tests vs the incongruent tests.\n",
    "\n",
    "$$ H_{0}: (μ_{i} - μ_{c} = 0) $$\n",
    "\n",
    "- **(The Alternative Hypothesis)** **$H_{1}$:** There is a noticeable difference in the mean completion time for the congruent test vs the incongruent tests.\n",
    "\n",
    "$$ H_{1}: (μ_{i} - μ_{c} ≠ 0) $$\n",
    "Where,\n",
    "- **$μ_{i}:$** The population mean for the incongruent completion time.\n",
    "- **$μ_{c}:$** The population mean for the congruent completion time.\n",
    "\n",
    "I'm going to perform a **Dependent Samples t-Test** and is the most appropriate because of the following reasons:\n",
    "    1. There is no randomization in the dataset.\n",
    "    2. We are comparing the mean of two related groups.\n",
    "    3. Both Congruent and Incongruent are Dependent Variables in the dataset.\n",
    "    4. The sample size is less than 30.\n",
    "    5. We are assuming the distribution is normal.\n",
    "    6. We don't have the population standard deviation."
   ]
  },
  {
   "cell_type": "markdown",
   "metadata": {},
   "source": [
    "(3) Report some descriptive statistics regarding this dataset. Include at least one measure of central tendency and at least one measure of variability. The name of the data file is 'stroopdata.csv'."
   ]
  },
  {
   "cell_type": "code",
   "execution_count": 45,
   "metadata": {},
   "outputs": [
    {
     "data": {
      "text/html": [
       "<div>\n",
       "<style>\n",
       "    .dataframe thead tr:only-child th {\n",
       "        text-align: right;\n",
       "    }\n",
       "\n",
       "    .dataframe thead th {\n",
       "        text-align: left;\n",
       "    }\n",
       "\n",
       "    .dataframe tbody tr th {\n",
       "        vertical-align: top;\n",
       "    }\n",
       "</style>\n",
       "<table border=\"1\" class=\"dataframe\">\n",
       "  <thead>\n",
       "    <tr style=\"text-align: right;\">\n",
       "      <th></th>\n",
       "      <th>Congruent</th>\n",
       "      <th>Incongruent</th>\n",
       "    </tr>\n",
       "  </thead>\n",
       "  <tbody>\n",
       "    <tr>\n",
       "      <th>count</th>\n",
       "      <td>24.000000</td>\n",
       "      <td>24.000000</td>\n",
       "    </tr>\n",
       "    <tr>\n",
       "      <th>mean</th>\n",
       "      <td>14.051125</td>\n",
       "      <td>22.015917</td>\n",
       "    </tr>\n",
       "    <tr>\n",
       "      <th>std</th>\n",
       "      <td>3.559358</td>\n",
       "      <td>4.797057</td>\n",
       "    </tr>\n",
       "    <tr>\n",
       "      <th>min</th>\n",
       "      <td>8.630000</td>\n",
       "      <td>15.687000</td>\n",
       "    </tr>\n",
       "    <tr>\n",
       "      <th>25%</th>\n",
       "      <td>11.895250</td>\n",
       "      <td>18.716750</td>\n",
       "    </tr>\n",
       "    <tr>\n",
       "      <th>50%</th>\n",
       "      <td>14.356500</td>\n",
       "      <td>21.017500</td>\n",
       "    </tr>\n",
       "    <tr>\n",
       "      <th>75%</th>\n",
       "      <td>16.200750</td>\n",
       "      <td>24.051500</td>\n",
       "    </tr>\n",
       "    <tr>\n",
       "      <th>max</th>\n",
       "      <td>22.328000</td>\n",
       "      <td>35.255000</td>\n",
       "    </tr>\n",
       "  </tbody>\n",
       "</table>\n",
       "</div>"
      ],
      "text/plain": [
       "       Congruent  Incongruent\n",
       "count  24.000000    24.000000\n",
       "mean   14.051125    22.015917\n",
       "std     3.559358     4.797057\n",
       "min     8.630000    15.687000\n",
       "25%    11.895250    18.716750\n",
       "50%    14.356500    21.017500\n",
       "75%    16.200750    24.051500\n",
       "max    22.328000    35.255000"
      ]
     },
     "execution_count": 45,
     "metadata": {},
     "output_type": "execute_result"
    }
   ],
   "source": [
    "# Importing the required libraries\n",
    "import pandas as pd\n",
    "# Reading the data \n",
    "stroop_df = pd.read_csv('stroopdata.csv')\n",
    "# Describing the data.\n",
    "stroop_df.describe()"
   ]
  },
  {
   "cell_type": "markdown",
   "metadata": {},
   "source": [
    "**Measure of Central Tendency:**\n",
    "- Congruent Mean is Approximately 14.051.\n",
    "- Incongruent Mean is Approximately 22.015.\n",
    "\n",
    "**Measure of Variability:**\n",
    "- Congruent Standard Deviation is Approximately 3.559.\n",
    "- Incongruent Standard Deviation is Approximately 4.797. "
   ]
  },
  {
   "cell_type": "markdown",
   "metadata": {},
   "source": [
    "(4) Provide one or two visualizations that show the distribution of the sample data. Write one or two sentences noting what you observe about the plot or plots."
   ]
  },
  {
   "cell_type": "code",
   "execution_count": 46,
   "metadata": {},
   "outputs": [
    {
     "data": {
      "image/png": "[encoded data removed]",
      "text/plain": [
       "<matplotlib.figure.Figure at 0x7f8ce519e1d0>"
      ]
     },
     "metadata": {},
     "output_type": "display_data"
    },
    {
     "data": {
      "image/png": "[encoded data removed]",
      "text/plain": [
       "<matplotlib.figure.Figure at 0x7f8ce5021d30>"
      ]
     },
     "metadata": {},
     "output_type": "display_data"
    },
    {
     "data": {
      "image/png": "[encoded data removed]",
      "text/plain": [
       "<matplotlib.figure.Figure at 0x7f8ce4f542e8>"
      ]
     },
     "metadata": {},
     "output_type": "display_data"
    }
   ],
   "source": [
    "# Importing required libraries for visualizations\n",
    "import seaborn as sns\n",
    "import matplotlib.pyplot as plt\n",
    "% matplotlib inline\n",
    "# Setting up the style\n",
    "sns.set(style='darkgrid')\n",
    "# bins for 5 minutes wide\n",
    "bins = [0,5,10,15,20,25,30,35,40]\n",
    "# Plotting the Congruent Conditions\n",
    "plt.hist(stroop_df['Congruent'], bins, rwidth=0.9, color='g',label='Congruent')\n",
    "plt.title('Congruent Test Completion time')\n",
    "plt.xlabel('Duration (s)')\n",
    "plt.ylabel('Count')\n",
    "plt.legend()\n",
    "plt.show()\n",
    "# Plotting the Incongruent Conditions\n",
    "plt.hist(stroop_df['Incongruent'], bins, rwidth=0.9, color='b',label='Incongruent')\n",
    "plt.title('Incongruent Test Completion time')\n",
    "plt.xlabel('Duration (s)')\n",
    "plt.ylabel('Count')\n",
    "plt.legend()\n",
    "plt.show()\n",
    "# Plotting a box plot\n",
    "sns.boxplot(data=stroop_df, notch=True);"
   ]
  },
  {
   "cell_type": "markdown",
   "metadata": {},
   "source": [
    "**From the above plots we can observe:**\n",
    "    1. Both histogram look's normally distributed.\n",
    "    2. From the boxplot, we can observe that there are outliers in the incongruent sample.\n",
    "    3. The mean in the Incongruent sample is higher than the Congruent sample."
   ]
  },
  {
   "cell_type": "markdown",
   "metadata": {},
   "source": [
    "(5)  Now, perform the statistical test and report your results. What is your confidence level or Type I error associated with your test? What is your conclusion regarding the hypotheses you set up? Did the results match up with your expectations? **Hint:**  Think about what is being measured on each individual, and what statistic best captures how an individual reacts in each environment."
   ]
  },
  {
   "cell_type": "code",
   "execution_count": 47,
   "metadata": {},
   "outputs": [
    {
     "name": "stdout",
     "output_type": "stream",
     "text": [
      "Our sample size is 24\n",
      "The point estimate diffrence between mean is 7.964791666666667\n"
     ]
    }
   ],
   "source": [
    "# Importing required libraries for the test\n",
    "import math\n",
    "from scipy.stats import t\n",
    "\n",
    "# Getting the sample size\n",
    "sample_size = len(stroop_df)\n",
    "print('Our sample size is {}'.format(sample_size))\n",
    "\n",
    "# Getting the mean of Congruent and Incongruent\n",
    "cong_mean = stroop_df['Congruent'].mean()\n",
    "incong_mean = stroop_df['Incongruent'].mean()\n",
    "# Calculating the point estimate diffrence\n",
    "point_estimate = incong_mean - cong_mean\n",
    "print('The point estimate diffrence between mean is {}'.format(point_estimate))"
   ]
  },
  {
   "cell_type": "code",
   "execution_count": 48,
   "metadata": {},
   "outputs": [
    {
     "name": "stdout",
     "output_type": "stream",
     "text": [
      "At a confidence level of 95 and Degree of freedom of 23 our t-critical value is 1.7138715277470473\n",
      "The Standard Deviation is 4.864826910359056\n"
     ]
    }
   ],
   "source": [
    "# Making our confidence level and degree of freedom\n",
    "t_crit = t.ppf(.95,23)\n",
    "print('At a confidence level of 95 and Degree of freedom of 23 our t-critical value is {}'.format(t_crit))\n",
    "\n",
    "# Making a new column calculating the diffrence between Congruent and Incongruent\n",
    "stroop_df['Diffrence'] = stroop_df['Incongruent'] - stroop_df['Congruent']\n",
    "\n",
    "# Calculating the diffrence Standard deviation\n",
    "dif_std = stroop_df['Diffrence'].std()\n",
    "print('The Standard Deviation is {}'.format(dif_std))"
   ]
  },
  {
   "cell_type": "code",
   "execution_count": 49,
   "metadata": {},
   "outputs": [
    {
     "name": "stdout",
     "output_type": "stream",
     "text": [
      "Our T-Statistic is 8.020706944109957\n"
     ]
    }
   ],
   "source": [
    "# Calculating the t-statistic\n",
    "t_stat = point_estimate/(dif_std/math.sqrt(sample_size))\n",
    "print('Our T-Statistic is {}'.format(t_stat))"
   ]
  },
  {
   "cell_type": "markdown",
   "metadata": {},
   "source": [
    "At a confidence level of **95%**, a critical value of **1.713** and t-statistic of **8.02**, Meaning that our t-statistic is way higher than our critical value, which concludes to **rejecting the null hypothesis**."
   ]
  },
  {
   "cell_type": "markdown",
   "metadata": {},
   "source": [
    "(6) Optional: What do you think is responsible for the effects observed? Can you think of an alternative or similar task that would result in a similar effect? Some research about the problem will be helpful for thinking about these two questions!"
   ]
  },
  {
   "cell_type": "markdown",
   "metadata": {},
   "source": [
    "I think that our brain focuses on recognizing the words faster than recognizing the color which may cause the effect and wanting to finish the test as soon as possible, I can see this task being in numbers or shapes which may affect similar results."
   ]
  }
 ],
 "metadata": {
  "kernelspec": {
   "display_name": "Python 3",
   "language": "python",
   "name": "python3"
  },
  "language_info": {
   "codemirror_mode": {
    "name": "ipython",
    "version": 3
   },
   "file_extension": ".py",
   "mimetype": "text/x-python",
   "name": "python",
   "nbconvert_exporter": "python",
   "pygments_lexer": "ipython3",
   "version": "3.6.3"
  }
 },
 "nbformat": 4,
 "nbformat_minor": 2
}
