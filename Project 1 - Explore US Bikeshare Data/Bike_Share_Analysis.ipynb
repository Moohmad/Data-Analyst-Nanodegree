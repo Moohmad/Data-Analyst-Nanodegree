{
 "cells": [
  {
   "cell_type": "markdown",
   "metadata": {},
   "source": [
    "# 2016 US Bike Share Activity Snapshot\n",
    "\n",
    "## Table of Contents\n",
    "- [Introduction](#intro)\n",
    "- [Posing Questions](#pose_questions)\n",
    "- [Data Collection and Wrangling](#wrangling)\n",
    "  - [Condensing the Trip Data](#condensing)\n",
    "- [Exploratory Data Analysis](#eda)\n",
    "  - [Statistics](#statistics)\n",
    "  - [Visualizations](#visualizations)\n",
    "- [Performing My Own Analysis](#eda_continued)\n",
    "- [Conclusions](#conclusions)\n",
    "\n",
    "<a id='intro'></a>\n",
    "## Introduction\n",
    "\n",
    "Over the past decade, bicycle-sharing systems have been growing in number and popularity in cities across the world. Bicycle-sharing systems allow users to rent bicycles for short trips, typically 30 minutes or less. Thanks to the rise in information technologies, it is easy for a user of the system to access a dock within the system to unlock or return bicycles. These technologies also provide a wealth of data that can be used to explore how these bike-sharing systems are used.\n",
    "\n",
    "In this project, I will perform an exploratory analysis on data provided by [Motivate](https://www.motivateco.com/), a bike-share system provider for many major cities in the United States. I will compare the system usage between three large cities: New York City, Chicago, and Washington, DC. I will also see if there are any differences within each system for those users that are registered, regular users and those users that are short-term, casual users."
   ]
  },
  {
   "cell_type": "markdown",
   "metadata": {},
   "source": [
    "<a id='pose_questions'></a>\n",
    "## Posing Questions\n",
    "\n",
    "Before looking at the bike sharing data, I should start by asking questions i might want to understand about the bike share data, for example, if i were working for Motivate. What kinds of information would you want to know about in order to make smarter business decisions? If you were a user of the bike-share service, what factors might influence how you would want to use the service?\n",
    "\n",
    "Let's write questions related to bike sharing that could be answered by data.\n",
    "\n",
    "- In What day of the week people uses bikeshare the most? \n",
    "- What's the diffrence between a subscriber and a customer? \n",
    "- How much is the cost for each city? \n",
    "- when is the most popular time of uses for each city? \n",
    "- what route people use the most?\n"
   ]
  },
  {
   "cell_type": "markdown",
   "metadata": {},
   "source": [
    "<a id='wrangling'></a>\n",
    "## Data Collection and Wrangling\n",
    "\n",
    "Now it's time to collect and explore our data. In this project, I will focus on the record of individual trips taken in 2016 from our selected cities: New York City, Chicago, and Washington, DC. Each of these cities has a page where we can freely download the trip data.:\n",
    "\n",
    "- New York City (Citi Bike): [Link](https://www.citibikenyc.com/system-data)\n",
    "- Chicago (Divvy): [Link](https://www.divvybikes.com/system-data)\n",
    "- Washington, DC (Capital Bikeshare): [Link](https://www.capitalbikeshare.com/system-data)\n",
    "\n",
    "I noticed that each city has a different way of delivering its data. Chicago updates with new data twice a year, Washington DC is quarterly, and New York City is monthly.The data has already been collected in the `/data/` folder of the project files. While the original data for 2016 is spread among multiple files for each city, the files in the `/data/` folder collect all of the trip data for the year into one file per city. Some data wrangling of inconsistencies in timestamp format within each city has already been performed. In addition, a random 2% sample of the original data is taken to make the exploration more manageable. \n",
    "\n",
    "However, there is still a lot of data to investigate, so it's a good idea to start off by looking at one entry from each of the cities we're going to analyze."
   ]
  },
  {
   "cell_type": "code",
   "execution_count": 18,
   "metadata": {},
   "outputs": [],
   "source": [
    "## import all necessary packages and functions.\n",
    "import csv # read and write csv files\n",
    "from datetime import datetime # operations to parse dates\n",
    "from pprint import pprint # print data structures like dictionaries in\n",
    "                          # a nicer way than the base print function."
   ]
  },
  {
   "cell_type": "code",
   "execution_count": 19,
   "metadata": {},
   "outputs": [
    {
     "name": "stdout",
     "output_type": "stream",
     "text": [
      "\n",
      "City: NYC\n",
      "OrderedDict([('tripduration', '839'),\n",
      "             ('starttime', '1/1/2016 00:09:55'),\n",
      "             ('stoptime', '1/1/2016 00:23:54'),\n",
      "             ('start station id', '532'),\n",
      "             ('start station name', 'S 5 Pl & S 4 St'),\n",
      "             ('start station latitude', '40.710451'),\n",
      "             ('start station longitude', '-73.960876'),\n",
      "             ('end station id', '401'),\n",
      "             ('end station name', 'Allen St & Rivington St'),\n",
      "             ('end station latitude', '40.72019576'),\n",
      "             ('end station longitude', '-73.98997825'),\n",
      "             ('bikeid', '17109'),\n",
      "             ('usertype', 'Customer'),\n",
      "             ('birth year', ''),\n",
      "             ('gender', '0')])\n",
      "\n",
      "City: Chicago\n",
      "OrderedDict([('trip_id', '9080545'),\n",
      "             ('starttime', '3/31/2016 23:30'),\n",
      "             ('stoptime', '3/31/2016 23:46'),\n",
      "             ('bikeid', '2295'),\n",
      "             ('tripduration', '926'),\n",
      "             ('from_station_id', '156'),\n",
      "             ('from_station_name', 'Clark St & Wellington Ave'),\n",
      "             ('to_station_id', '166'),\n",
      "             ('to_station_name', 'Ashland Ave & Wrightwood Ave'),\n",
      "             ('usertype', 'Subscriber'),\n",
      "             ('gender', 'Male'),\n",
      "             ('birthyear', '1990')])\n",
      "\n",
      "City: Washington\n",
      "OrderedDict([('Duration (ms)', '427387'),\n",
      "             ('Start date', '3/31/2016 22:57'),\n",
      "             ('End date', '3/31/2016 23:04'),\n",
      "             ('Start station number', '31602'),\n",
      "             ('Start station', 'Park Rd & Holmead Pl NW'),\n",
      "             ('End station number', '31207'),\n",
      "             ('End station', 'Georgia Ave and Fairmont St NW'),\n",
      "             ('Bike number', 'W20842'),\n",
      "             ('Member Type', 'Registered')])\n"
     ]
    }
   ],
   "source": [
    "def print_first_point(filename):\n",
    "    \"\"\"\n",
    "    This function prints and returns the first data point (second row) from\n",
    "    a csv file that includes a header row.\n",
    "    \"\"\"\n",
    "    # print city name for reference\n",
    "    city = filename.split('-')[0].split('/')[-1]\n",
    "    print('\\nCity: {}'.format(city))\n",
    "    \n",
    "    with open(filename, 'r') as f_in:\n",
    "        # set up a DictReader object\n",
    "        trip_reader = csv.DictReader(f_in)\n",
    "        \n",
    "        # read the first trip from the data file and store it in a variable\n",
    "        first_trip = next(trip_reader)\n",
    "        \n",
    "        #print the first trip\n",
    "        pprint(first_trip)\n",
    "    # output city name and first trip for later testing\n",
    "    return (city, first_trip)\n",
    "\n",
    "# list of files for each city\n",
    "data_files = ['./data/NYC-CitiBike-2016.csv',\n",
    "              './data/Chicago-Divvy-2016.csv',\n",
    "              './data/Washington-CapitalBikeshare-2016.csv',]\n",
    "\n",
    "# print the first trip from each file, store in dictionary\n",
    "example_trips = {}\n",
    "for data_file in data_files:\n",
    "    city, first_trip = print_first_point(data_file)\n",
    "    example_trips[city] = first_trip"
   ]
  },
  {
   "cell_type": "markdown",
   "metadata": {},
   "source": [
    "We can see below the printout of each city name (which has been parsed from the data file name) that the first trip has been parsed in the form of a dictionary. Which contain data like the Duration for the trip, The Starting point and ending point, the member type and other informations about the consumer.\n",
    "\n",
    "\n",
    "<a id='condensing'></a>\n",
    "### Condensing the Trip Data\n",
    "\n",
    "It should also be observable from the above printout that each city provides different information. Even where the information is the same, the column names and formats are sometimes different. To make things as simple as possible when we get to the actual exploration, i will trim and clean the data.\n",
    "\n",
    "I will generate new data files with five values of interest for each trip: trip duration, starting month, starting hour, day of the week, and user type. Each of these may require additional wrangling depending on the city:\n",
    "\n",
    "- **Duration**: This has been given to us in seconds (New York, Chicago) or milliseconds (Washington). A more natural unit of analysis will be if all the trip durations are given in terms of minutes.\n",
    "- **Month**, **Hour**, **Day of Week**: Ridership volume is likely to change based on the season, time of day, and whether it is a weekday or weekend. The New York City data includes the seconds in their timestamps, while Washington and Chicago do not.\n",
    "- **User Type**: It is possible that users who are subscribed to a bike-share system will have different patterns of use compared to users who only have temporary passes. Washington divides its users into two types: 'Registered' for users with annual, monthly, and other longer-term subscriptions, and 'Casual', for users with 24-hour, 3-day, and other short-term passes. The New York and Chicago data uses 'Subscriber' and 'Customer' for these groups, respectively. For consistency, i will convert the Washington labels to match the other two."
   ]
  },
  {
   "cell_type": "code",
   "execution_count": 20,
   "metadata": {},
   "outputs": [],
   "source": [
    "def duration_in_mins(datum, city):\n",
    "    \"\"\"\n",
    "    Takes as input a dictionary containing info about a single trip (datum) and\n",
    "    its origin city (city) and returns the trip duration in units of minutes.\n",
    "    \n",
    "    Remember that Washington is in terms of milliseconds while Chicago and NYC\n",
    "    are in terms of seconds. \n",
    "    \"\"\"\n",
    "    \n",
    "    # Converted Chicago and NYC from seconds to minutes.\n",
    "    if city == 'Chicago':\n",
    "        duration = float(datum['tripduration']) /60\n",
    "    elif city == 'NYC':\n",
    "        duration = float(datum['tripduration']) /60\n",
    "    # Coverted Washington from milliseconds to minutes.\n",
    "    elif city == 'Washington':\n",
    "        duration = float(datum['Duration (ms)']) /60000\n",
    "    # Return the trip duration\n",
    "    return duration\n",
    "\n",
    "\n",
    "# Some tests to check that the code works. There should be no output if all of\n",
    "# the assertions pass.\n",
    "tests = {'NYC': 13.9833,\n",
    "         'Chicago': 15.4333,\n",
    "         'Washington': 7.1231}\n",
    "\n",
    "for city in tests:\n",
    "    assert abs(duration_in_mins(example_trips[city], city) - tests[city]) < .001"
   ]
  },
  {
   "cell_type": "code",
   "execution_count": 21,
   "metadata": {},
   "outputs": [],
   "source": [
    "def time_of_trip(datum, city):\n",
    "    \"\"\"\n",
    "    Takes as input a dictionary containing info about a single trip (datum) and\n",
    "    its origin city (city) and returns the month, hour, and day of the week in\n",
    "    which the trip was made.\n",
    "    \n",
    "    Remember that NYC includes seconds, while Washington and Chicago do not.\n",
    "    \"\"\"\n",
    "\n",
    "    # used the datetime module to get some useful functions.\n",
    "    if city == 'Chicago':\n",
    "        dt = datetime.strptime(datum['starttime'], \"%m/%d/%Y %H:%M\")\n",
    "    elif city == 'Washington':\n",
    "        dt = datetime.strptime(datum['Start date'], \"%m/%d/%Y %H:%M\")\n",
    "    # included the seconds in NYC since it have the data.\n",
    "    elif city == 'NYC':\n",
    "        dt = datetime.strptime(datum['starttime'], \"%m/%d/%Y %H:%M:%S\")\n",
    "    month = dt.month\n",
    "    hour = dt.hour\n",
    "    days = ['Monday','Tuesday','Wednesday','Thursday','Friday','Saturday','Sunday']\n",
    "    weekday = dt.date().weekday()\n",
    "    day_of_week = days[weekday]\n",
    "    return (month, hour, day_of_week)\n",
    "\n",
    "\n",
    "# tests to check that the code works. There should be no output if all of\n",
    "# the assertions pass.\n",
    "tests = {'NYC': (1, 0, 'Friday'),\n",
    "         'Chicago': (3, 23, 'Thursday'),\n",
    "         'Washington': (3, 22, 'Thursday')}\n",
    "\n",
    "for city in tests:\n",
    "    assert time_of_trip(example_trips[city], city) == tests[city]"
   ]
  },
  {
   "cell_type": "code",
   "execution_count": 22,
   "metadata": {},
   "outputs": [],
   "source": [
    "def type_of_user(datum, city):\n",
    "    \"\"\"\n",
    "    Takes as input a dictionary containing info about a single trip (datum) and\n",
    "    its origin city (city) and returns the type of system user that made the\n",
    "    trip.\n",
    "    \n",
    "    Remember that Washington has different category names compared to Chicago\n",
    "    and NYC. \n",
    "    \"\"\"\n",
    "    \n",
    "    if city == 'Chicago':\n",
    "        user_type = datum['usertype']\n",
    "    elif city == 'Washington':\n",
    "        if datum['Member Type'] == 'Registered':\n",
    "            user_type = 'Subscriber'\n",
    "        else:\n",
    "            user_type = 'Customer'\n",
    "    elif city == 'NYC':\n",
    "        user_type = datum['usertype']\n",
    "    return user_type\n",
    "\n",
    "\n",
    "# tests to check that the code works. There should be no output if all of\n",
    "# the assertions pass. \n",
    "tests = {'NYC': 'Customer',\n",
    "         'Chicago': 'Subscriber',\n",
    "         'Washington': 'Subscriber'}\n",
    "\n",
    "for city in tests:\n",
    "    assert type_of_user(example_trips[city], city) == tests[city]"
   ]
  },
  {
   "cell_type": "markdown",
   "metadata": {},
   "source": [
    "Now, I will create a condensed data file for each city consisting only of the data fields indicated above."
   ]
  },
  {
   "cell_type": "code",
   "execution_count": 23,
   "metadata": {},
   "outputs": [],
   "source": [
    "def condense_data(in_file, out_file, city):\n",
    "    \"\"\"\n",
    "    This function takes full data from the specified input file\n",
    "    and writes the condensed data to a specified output file. The city\n",
    "    argument determines how the input file will be parsed.\n",
    "    \"\"\"\n",
    "    \n",
    "    with open(out_file, 'w') as f_out, open(in_file, 'r') as f_in:\n",
    "        # set up csv DictWriter object - writer requires column names for the\n",
    "        # first row as the \"fieldnames\" argument\n",
    "        out_colnames = ['duration', 'month', 'hour', 'day_of_week', 'user_type']        \n",
    "        trip_writer = csv.DictWriter(f_out, fieldnames = out_colnames)\n",
    "        trip_writer.writeheader()\n",
    "        \n",
    "        # set up csv DictReader object\n",
    "        trip_reader = csv.DictReader(f_in)\n",
    "\n",
    "        # collect data from and process each row\n",
    "        for row in trip_reader:\n",
    "            # set up a dictionary to hold the values for the cleaned and trimmed\n",
    "            # data point\n",
    "            new_point = {}\n",
    "\n",
    "            # getting the cleaned data from the original data dictionaries\n",
    "            new_point['duration'] = duration_in_mins(row, city)\n",
    "            new_point['month'] = time_of_trip(row, city)[0]\n",
    "            new_point['hour'] = time_of_trip(row, city)[1]\n",
    "            new_point['day_of_week'] = time_of_trip(row,city)[2]\n",
    "            new_point['user_type'] = type_of_user(row, city)\n",
    "\n",
    "            # writing the processed information to the output file\n",
    "            trip_writer.writerow(new_point)\n",
    "            "
   ]
  },
  {
   "cell_type": "code",
   "execution_count": 24,
   "metadata": {},
   "outputs": [
    {
     "name": "stdout",
     "output_type": "stream",
     "text": [
      "\n",
      "City: Washington\n",
      "OrderedDict([('duration', '7.123116666666666'),\n",
      "             ('month', '3'),\n",
      "             ('hour', '22'),\n",
      "             ('day_of_week', 'Thursday'),\n",
      "             ('user_type', 'Subscriber')])\n",
      "\n",
      "City: Chicago\n",
      "OrderedDict([('duration', '15.433333333333334'),\n",
      "             ('month', '3'),\n",
      "             ('hour', '23'),\n",
      "             ('day_of_week', 'Thursday'),\n",
      "             ('user_type', 'Subscriber')])\n",
      "\n",
      "City: NYC\n",
      "OrderedDict([('duration', '13.983333333333333'),\n",
      "             ('month', '1'),\n",
      "             ('hour', '0'),\n",
      "             ('day_of_week', 'Friday'),\n",
      "             ('user_type', 'Customer')])\n"
     ]
    }
   ],
   "source": [
    "# Test to check that the code works\n",
    "city_info = {'Washington': {'in_file': './data/Washington-CapitalBikeshare-2016.csv',\n",
    "                            'out_file': './data/Washington-2016-Summary.csv'},\n",
    "             'Chicago': {'in_file': './data/Chicago-Divvy-2016.csv',\n",
    "                         'out_file': './data/Chicago-2016-Summary.csv'},\n",
    "             'NYC': {'in_file': './data/NYC-CitiBike-2016.csv',\n",
    "                     'out_file': './data/NYC-2016-Summary.csv'}}\n",
    "\n",
    "for city, filenames in city_info.items():\n",
    "    condense_data(filenames['in_file'], filenames['out_file'], city)\n",
    "    print_first_point(filenames['out_file'])"
   ]
  },
  {
   "cell_type": "markdown",
   "metadata": {},
   "source": [
    "<a id='eda'></a>\n",
    "## Exploratory Data Analysis\n",
    "\n",
    "Now that the data has been collected and wrangled, it's time to start exploring the data.\n",
    "\n",
    "<a id='statistics'></a>\n",
    "### Statistics\n",
    "\n",
    "First, let's compute some basic counts. The first cell below contains a function that uses the csv module to iterate through a provided data file, returning the number of trips made by subscribers and customers.\n",
    "\n",
    "**Questions :**\n",
    "\n",
    "Which city has the highest number of trips? Which city has the highest proportion of trips made by subscribers? Which city has the highest proportion of trips made by short-term customers?\n",
    "\n",
    "**Answers :**\n",
    "\n",
    "NYC has the highest number of trips (245896), Also NYC has the highest proportion of trips made by subscribers (88.84%), But Chicago has the highest proportion made by short-term customers (23.77%). "
   ]
  },
  {
   "cell_type": "code",
   "execution_count": 25,
   "metadata": {},
   "outputs": [],
   "source": [
    "def number_of_trips(filename):\n",
    "    \"\"\"\n",
    "    This function reads in a file with trip data and reports the number of\n",
    "    trips made by subscribers, customers, and total overall.\n",
    "    \"\"\"\n",
    "    # print city name for reference\n",
    "    city = filename.split('-')[0].split('/')[-1]\n",
    "    print('\\nCity: {}'.format(city))\n",
    "    \n",
    "    with open(filename, 'r') as f_in:\n",
    "        # set up csv reader object\n",
    "        reader = csv.DictReader(f_in)\n",
    "        \n",
    "        # initialize count variables\n",
    "        n_subscribers = 0\n",
    "        n_customers = 0\n",
    "        \n",
    "        # tally up ride types\n",
    "        for row in reader:\n",
    "            if row['user_type'] == 'Subscriber':\n",
    "                n_subscribers += 1\n",
    "            else:\n",
    "                n_customers += 1\n",
    "        \n",
    "        # compute total number of rides\n",
    "        n_total = n_subscribers + n_customers\n",
    "        sub_prop = (n_subscribers/n_total) *100\n",
    "        cust_prop = (n_customers/n_total) *100\n",
    "        # return tallies as a tuple\n",
    "        return(n_subscribers, n_customers, n_total, sub_prop, cust_prop)"
   ]
  },
  {
   "cell_type": "code",
   "execution_count": 26,
   "metadata": {},
   "outputs": [
    {
     "name": "stdout",
     "output_type": "stream",
     "text": [
      "\n",
      "City: Washington\n",
      "(51753, 14573, 66326, 78.0282242257938, 21.971775774206193)\n",
      "\n",
      "City: Chicago\n",
      "(54982, 17149, 72131, 76.22520136973007, 23.774798630269924)\n",
      "\n",
      "City: NYC\n",
      "(245896, 30902, 276798, 88.83590199351151, 11.164098006488485)\n"
     ]
    }
   ],
   "source": [
    "data_files = ['./data/Washington-2016-Summary.csv',\n",
    "              './data/Chicago-2016-Summary.csv',\n",
    "              './data/NYC-2016-Summary.csv']\n",
    "\n",
    "for data_file in data_files:\n",
    "    print(number_of_trips(data_file))"
   ]
  },
  {
   "cell_type": "markdown",
   "metadata": {},
   "source": [
    "**Questions :**\n",
    "\n",
    "Bike-share systems are designed for riders to take short trips. Most of the time, users are allowed to take trips of 30 minutes or less with no additional charges, with overage charges made for trips of longer than that duration. What is the average trip length for each city? What proportion of rides made in each city are longer than 30 minutes?\n",
    "\n",
    "**Answers :** \n",
    "\n",
    "The average trip length for Washington is 18.93 minutes and the proportion of rides made that are longer than 30 minutes is 10.83%, The average trip length for Chicago is 16.56 minutes and the proportion of rides made that are longer than 30 minutes is 8.33%, The average trip length for NYC is 15.81 minutes and the proportion of rides made that are longer than 30 minutes is 7.30%."
   ]
  },
  {
   "cell_type": "code",
   "execution_count": 27,
   "metadata": {
    "scrolled": true
   },
   "outputs": [],
   "source": [
    "def avg_trip(filename):\n",
    "    \"\"\" \n",
    "    This function read in a file with trip data and return the average duration of a trip length as well\n",
    "    the proportion of long trips that is over 30 minutes\n",
    "    \"\"\"\n",
    "    # print city name for reference\n",
    "    city = filename.split('-')[0].split('/')[-1]\n",
    "    print('\\nCity: {}'.format(city))\n",
    "    # set up csv reader object\n",
    "    with open(filename, 'r') as f_in:\n",
    "        reader = csv.DictReader(f_in)\n",
    "        # initialize count variables\n",
    "        total_trips = 0\n",
    "        total_trip_leng = 0\n",
    "        trip_over_30 = 0\n",
    "        # trip count and trip length add\n",
    "        for i in reader:\n",
    "            total_trips += 1\n",
    "            total_trip_leng += float(i['duration'])\n",
    "            if float(i['duration']) > 30:\n",
    "                trip_over_30 += 1\n",
    "        # Calculate the average trip length\n",
    "        avg_length = (total_trip_leng/total_trips)\n",
    "        prop_over_30 = (trip_over_30/total_trips)*100\n",
    "        # return the average length and the proportion of long trips over 30 mins\n",
    "        return (avg_length, prop_over_30)\n"
   ]
  },
  {
   "cell_type": "code",
   "execution_count": 28,
   "metadata": {},
   "outputs": [
    {
     "name": "stdout",
     "output_type": "stream",
     "text": [
      "\n",
      "City: Washington\n",
      "(18.93287355913721, 10.83888671109369)\n",
      "\n",
      "City: Chicago\n",
      "(16.563629368787335, 8.332062497400562)\n",
      "\n",
      "City: NYC\n",
      "(15.81259299802294, 7.3024371563378345)\n"
     ]
    }
   ],
   "source": [
    "# Get the data\n",
    "data_files = ['./data/Washington-2016-Summary.csv',\n",
    "              './data/Chicago-2016-Summary.csv',\n",
    "              './data/NYC-2016-Summary.csv']\n",
    "for data_file in data_files:\n",
    "    print(avg_trip(data_file))"
   ]
  },
  {
   "cell_type": "markdown",
   "metadata": {},
   "source": [
    "**Question :** \n",
    "\n",
    "Which type of user takes longer rides on average in Washington: Subscribers or Customers?\n",
    "\n",
    "**Answer**: \n",
    "\n",
    "- Customers in Washington take longer rides on average of **41.67** minutes, And the average time of subscribers taking rides is **12.52** minutes.\n",
    "- Customers in Chicago take longer rides on average **30.97** minutes, And the average time of subscribers taking rides is **12.06** minutes.\n",
    "- Customers in NYC take longer rides on average of **32.77** minutes, And the average time of subscribers taking rides is **13.68** minutes."
   ]
  },
  {
   "cell_type": "code",
   "execution_count": 29,
   "metadata": {},
   "outputs": [],
   "source": [
    "def rider_duration(filename):\n",
    "    \"\"\"\n",
    "    this function read in a file with trip data and return the ridership by \n",
    "    subscribers and customers and then calculate the average rider duration for both.\n",
    "    \"\"\"\n",
    "    # print city name for reference\n",
    "    city = filename.split('-')[0].split('/')[-1]\n",
    "    print('\\nCity: {}'.format(city))\n",
    "    # set up csv reader object\n",
    "    with open(filename, 'r') as f_in:\n",
    "        reader = csv.DictReader(f_in)\n",
    "        # initialize count variables\n",
    "        subs = 0\n",
    "        sub_duration = 0\n",
    "        cust = 0\n",
    "        cust_duration = 0\n",
    "        # subscribers and customers add\n",
    "        for i in reader:\n",
    "            if i['user_type'] == 'Subscriber':\n",
    "                subs += 1\n",
    "                sub_duration += float(i['duration'])\n",
    "            else:\n",
    "                cust += 1\n",
    "                cust_duration += float(i['duration'])\n",
    "        # Calculate the average\n",
    "        avg_subs = sub_duration / subs\n",
    "        avg_cust = cust_duration / cust\n",
    "        # Return the average \n",
    "        return (avg_subs, avg_cust)"
   ]
  },
  {
   "cell_type": "code",
   "execution_count": 30,
   "metadata": {},
   "outputs": [
    {
     "name": "stdout",
     "output_type": "stream",
     "text": [
      "\n",
      "City: Washington\n",
      "(12.528120499294745, 41.67803139252976)\n",
      "\n",
      "City: Chicago\n",
      "(12.067201690250076, 30.979781133982506)\n",
      "\n",
      "City: NYC\n",
      "(13.680790523907177, 32.77595139473187)\n"
     ]
    }
   ],
   "source": [
    "# Get the data\n",
    "data_washington = './data/Washington-2016-Summary.csv'\n",
    "data_chicago = './data/Chicago-2016-Summary.csv'\n",
    "data_NYC = './data/NYC-2016-Summary.csv'\n",
    "\n",
    "# Print out the info\n",
    "print(rider_duration(data_washington))\n",
    "print(rider_duration(data_chicago))\n",
    "print(rider_duration(data_NYC))"
   ]
  },
  {
   "cell_type": "markdown",
   "metadata": {},
   "source": [
    "<a id='visualizations'></a>\n",
    "### Visualizations\n",
    "\n",
    "The last set of values that computed pulled up an interesting result. While the mean trip time for Subscribers is well under 30 minutes, the mean trip time for Customers is actually _above_ 30 minutes! It will be interesting to look at how the trip times are distributed.\n",
    "The cell below to load the library and to generate an example plot."
   ]
  },
  {
   "cell_type": "code",
   "execution_count": 31,
   "metadata": {},
   "outputs": [
    {
     "data": {
      "image/png": "[encoded data removed]",
      "text/plain": [
       "<Figure size 432x288 with 1 Axes>"
      ]
     },
     "metadata": {
      "needs_background": "light"
     },
     "output_type": "display_data"
    }
   ],
   "source": [
    "# load library\n",
    "import matplotlib.pyplot as plt\n",
    "\n",
    "%matplotlib inline \n",
    "\n",
    "# example histogram, data taken from bay area sample\n",
    "data = [ 7.65,  8.92,  7.42,  5.50, 16.17,  4.20,  8.98,  9.62, 11.48, 14.33,\n",
    "        19.02, 21.53,  3.90,  7.97,  2.62,  2.67,  3.08, 14.40, 12.90,  7.83,\n",
    "        25.12,  8.30,  4.93, 12.43, 10.60,  6.17, 10.88,  4.78, 15.15,  3.53,\n",
    "         9.43, 13.32, 11.72,  9.85,  5.22, 15.10,  3.95,  3.17,  8.78,  1.88,\n",
    "         4.55, 12.68, 12.38,  9.78,  7.63,  6.45, 17.38, 11.90, 11.52,  8.63,]\n",
    "plt.hist(data)\n",
    "plt.title('Distribution of Trip Durations')\n",
    "plt.xlabel('Duration (m)')\n",
    "plt.show()"
   ]
  },
  {
   "cell_type": "markdown",
   "metadata": {},
   "source": [
    "In the above cell, I collected fifty trip times in a list, and passed this list as the first argument to the `.hist()` function. This function performs the computations and creates plotting objects for generating a histogram, but the plot is actually not rendered until the `.show()` function is executed. The `.title()` and `.xlabel()` functions provide some labeling for plot context.\n",
    "\n",
    "I will now use these functions to create a histogram of the trip times for Washington city."
   ]
  },
  {
   "cell_type": "code",
   "execution_count": 32,
   "metadata": {},
   "outputs": [
    {
     "data": {
      "image/png": "[encoded data removed]",
      "text/plain": [
       "<Figure size 432x288 with 1 Axes>"
      ]
     },
     "metadata": {
      "needs_background": "light"
     },
     "output_type": "display_data"
    }
   ],
   "source": [
    "def trip_info(filename):\n",
    "    \"\"\"\n",
    "    This function read in a file with trip data and return the number\n",
    "    of trips made by subscribers and customers.\n",
    "    \"\"\"\n",
    "    # List to contain the data\n",
    "    trip_data = []\n",
    "    # set up csv reader object\n",
    "    with open(filename, 'r') as f_in:\n",
    "        reader = csv.DictReader(f_in)\n",
    "        # Add the duration to the list\n",
    "        for i in reader:\n",
    "            trip_data.append(float(i['duration']))\n",
    "    # return the data\n",
    "    return trip_data\n",
    "\n",
    "# Get the data\n",
    "data_washington = './data/Washington-2016-Summary.csv'\n",
    "washington_plot = trip_info(data_washington)\n",
    "\n",
    "# plot the data in a histogram\n",
    "plt.hist(washington_plot)\n",
    "plt.title('Distribution of Trip Durations')\n",
    "plt.xlabel('Duration (m)')\n",
    "plt.show()"
   ]
  },
  {
   "cell_type": "markdown",
   "metadata": {},
   "source": [
    "The plot consists of one extremely tall bar on the left, maybe a very short second bar, and a whole lot of empty space in the center and right. Take a look at the duration values on the x-axis. This suggests that there are some highly infrequent outliers in the data. Instead of reprocessing the data, I will use additional parameters with the `.hist()` function to limit the range of data that is plotted. Documentation for the function can be found [[here]](https://matplotlib.org/devdocs/api/_as_gen/matplotlib.pyplot.hist.html#matplotlib.pyplot.hist).\n",
    "\n",
    "**Question :** \n",
    "\n",
    "Where is the peak in NYC distribution? How would you describe the shape of the distribution?\n",
    "\n",
    "**Answer :** \n",
    "\n",
    "The peak for the subscribers in Washington is around 5 to 10 Minutes and the customers around 15 to 25 Minutes, And they both are skewed towards the right."
   ]
  },
  {
   "cell_type": "code",
   "execution_count": 33,
   "metadata": {},
   "outputs": [
    {
     "data": {
      "image/png": "[encoded data removed]",
      "text/plain": [
       "<Figure size 432x288 with 1 Axes>"
      ]
     },
     "metadata": {
      "needs_background": "light"
     },
     "output_type": "display_data"
    },
    {
     "data": {
      "image/png": "[encoded data removed]",
      "text/plain": [
       "<Figure size 432x288 with 1 Axes>"
      ]
     },
     "metadata": {
      "needs_background": "light"
     },
     "output_type": "display_data"
    }
   ],
   "source": [
    "# Lists to contain data\n",
    "subs_data = []\n",
    "cust_data = []\n",
    "\n",
    "def sub_trip_info(filename):\n",
    "    # set up csv reader object\n",
    "    with open(filename, 'r') as f_in:\n",
    "        reader = csv.DictReader(f_in)\n",
    "        # Add up Subscriber ride information\n",
    "        for i in reader:\n",
    "            if i['user_type'] == 'Subscriber':\n",
    "                subs_data.append(float(i['duration']))\n",
    "        # Return the data\n",
    "        return subs_data\n",
    "\n",
    "def cust_trip_info(filename):\n",
    "    # set up csv reader object\n",
    "    with open(filename, 'r') as f_in:\n",
    "        reader = csv.DictReader(f_in)\n",
    "        # Add up Customers ride information\n",
    "        for i in reader:\n",
    "            if i['user_type'] == 'Customer':\n",
    "                cust_data.append(float(i['duration']))\n",
    "        # Return the data\n",
    "        return cust_data\n",
    "\n",
    "# Get the data\n",
    "data_washington = './data/Washington-2016-Summary.csv'\n",
    "\n",
    "subs_washington_plot = sub_trip_info(data_washington)\n",
    "cust_washington_plot = cust_trip_info(data_washington)\n",
    "\n",
    "# bins for 5 minutes wide\n",
    "bins = [0,5,10,15,20,25,30,35,40,45,50,55,60,65,70,75]\n",
    "\n",
    "# Plot for subscribers in Washington\n",
    "plt.hist(subs_washington_plot, bins, rwidth=0.8, color='g')\n",
    "plt.title('Distribution of Washington Subscriber Trip Durations')\n",
    "plt.xlabel('Duration (m)')\n",
    "plt.show()\n",
    "\n",
    "# Plot for customers in Washington\n",
    "plt.hist(cust_washington_plot, bins, rwidth=0.8)\n",
    "plt.title('Distribution of Washington Customer Trip Durations')\n",
    "plt.xlabel('Duration (m)')\n",
    "plt.show()"
   ]
  },
  {
   "cell_type": "markdown",
   "metadata": {
    "collapsed": true
   },
   "source": [
    "<a id='eda_continued'></a>\n",
    "## Performing My Own Analysis\n",
    "\n",
    "So far, I performed an initial exploration into the data available. I compared the relative volume of trips made between three U.S. cities and the ratio of trips made by Subscribers and Customers. For one of these cities, I investigated differences between Subscribers and Customers in terms of how long a typical trip lasts.\n",
    "\n",
    "**Question :**\n",
    "\n",
    "Is the pattern of ridership different on the weekends versus weekdays?\n",
    "\n",
    "What is the average weekday/weekend ride times in Washington?\n",
    "\n",
    "**Answer :**\n",
    "\n",
    "The pattern is both right skewed for weekday and weekend in Washington, And the peak is around 10 minutes for both weekdays and weekend, The average trip for weekday is (17.02) minutes and for weekend is (24.40) minutes."
   ]
  },
  {
   "cell_type": "code",
   "execution_count": 34,
   "metadata": {},
   "outputs": [
    {
     "data": {
      "image/png": "[encoded data removed]",
      "text/plain": [
       "<Figure size 432x288 with 1 Axes>"
      ]
     },
     "metadata": {
      "needs_background": "light"
     },
     "output_type": "display_data"
    },
    {
     "data": {
      "image/png": "[encoded data removed]",
      "text/plain": [
       "<Figure size 432x288 with 1 Axes>"
      ]
     },
     "metadata": {
      "needs_background": "light"
     },
     "output_type": "display_data"
    }
   ],
   "source": [
    "def weekdays_plot(filename):\n",
    "    \"\"\" Plot a histogram for a given city weekday \"\"\"\n",
    "    # set up csv reader object\n",
    "    with open(filename, 'r') as f_in:\n",
    "        reader = csv.DictReader(f_in)\n",
    "        # List to contain data\n",
    "        week_days = []\n",
    "        # Add up the weekdays data\n",
    "        for i in reader:\n",
    "            if i['day_of_week'] == 'Monday':\n",
    "                week_days.append(float(i['duration']))\n",
    "            elif i['day_of_week'] == 'Tuesday':\n",
    "                week_days.append(float(i['duration']))\n",
    "            elif i['day_of_week'] == 'Wednesday':\n",
    "                week_days.append(float(i['duration']))\n",
    "            elif i['day_of_week'] == 'Thursday':\n",
    "                week_days.append(float(i['duration']))\n",
    "            elif i['day_of_week'] == 'Friday':\n",
    "                week_days.append(float(i['duration']))\n",
    "        # Return the data\n",
    "        return (week_days)\n",
    "\n",
    "# Get the data    \n",
    "data_washington = './data/Washington-2016-Summary.csv'\n",
    "weekday_washington = weekdays_plot(data_washington)\n",
    "\n",
    "# bins for 5 minutes wide\n",
    "bins = [0,5,10,15,20,25,30,35,40,45,50,55,60,65,70,75]\n",
    "# Plot for weekdays in Washington\n",
    "\n",
    "plt.hist(weekday_washington, bins, rwidth=0.8, color='gold')\n",
    "plt.title('Distribution of Washington Weekday Trip Durations')\n",
    "plt.xlabel('Duration (m)')\n",
    "plt.show()\n",
    "\n",
    "def weekend_plot(filename):\n",
    "    \"\"\" Plot a histogram for a given city weekend \"\"\"\n",
    "    # set up csv reader object\n",
    "    with open(filename, 'r') as f_in:\n",
    "        reader = csv.DictReader(f_in)\n",
    "        # List to contain data\n",
    "        weekend_days = []\n",
    "        # Add up the weekend data\n",
    "        for i in reader:\n",
    "            if i['day_of_week'] == 'Saturday':\n",
    "                weekend_days.append(float(i['duration']))\n",
    "            elif i['day_of_week'] == 'Sunday':\n",
    "                weekend_days.append(float(i['duration']))\n",
    "        # Return the data\n",
    "        return weekend_days\n",
    "\n",
    "# Get the data\n",
    "data_washington = './data/Washington-2016-Summary.csv'\n",
    "weekend_washington = weekend_plot(data_washington)\n",
    "\n",
    "# Plot for weekends in washington\n",
    "plt.hist(weekend_washington, bins, rwidth=0.8, color='navy')\n",
    "plt.title('Distribution of Washington Weekend Trip Durations')\n",
    "plt.xlabel('Duration (m)')\n",
    "plt.show()"
   ]
  },
  {
   "cell_type": "code",
   "execution_count": 35,
   "metadata": {},
   "outputs": [
    {
     "name": "stdout",
     "output_type": "stream",
     "text": [
      "Average weekday ride time in washington is :17.02673047724554 minutes.\n",
      "Average weekend ride time in washington is :24.408457928027808 minutes.\n"
     ]
    }
   ],
   "source": [
    "def avg_weekday_weekend(filename):\n",
    "    \"\"\" \n",
    "    This function read in a file with trip data and return the average\n",
    "    trip ride that has been made in weekdays and weekends\n",
    "    \"\"\"\n",
    "    # set up csv reader object\n",
    "    with open(filename, 'r') as f_in:\n",
    "        reader = csv.DictReader(f_in)\n",
    "        # initialize count variables\n",
    "        n_weekday = 0\n",
    "        n_weekend = 0\n",
    "        dur_weekday = 0\n",
    "        dur_weekend = 0\n",
    "        # Add up the weekdays and weekend duration and trips\n",
    "        for i in reader:\n",
    "            if i['day_of_week'] == 'Monday':\n",
    "                dur_weekday += float(i['duration'])\n",
    "                n_weekday += 1\n",
    "            elif i['day_of_week'] == 'Tuesday':\n",
    "                dur_weekday += float(i['duration'])\n",
    "                n_weekday += 1\n",
    "            elif i['day_of_week'] == 'Wednesday':\n",
    "                dur_weekday += float(i['duration'])\n",
    "                n_weekday += 1\n",
    "            elif i['day_of_week'] == 'Thursday':\n",
    "                dur_weekday += float(i['duration'])\n",
    "                n_weekday += 1\n",
    "            elif i['day_of_week'] == 'Friday':\n",
    "                dur_weekday += float(i['duration'])\n",
    "                n_weekday += 1\n",
    "            elif i['day_of_week'] == 'Saturday':\n",
    "                dur_weekend += float(i['duration'])\n",
    "                n_weekend += +1\n",
    "            elif i['day_of_week'] == 'Sunday':\n",
    "                dur_weekend += float(i['duration'])\n",
    "                n_weekend += 1\n",
    "        # Calculate the average for weekdays and weekends        \n",
    "        avg_weekday = dur_weekday / n_weekday\n",
    "        avg_weekend = dur_weekend / n_weekend\n",
    "        # Return the average\n",
    "        return(avg_weekday, avg_weekend)\n",
    "\n",
    "# Get the data    \n",
    "data_washington = './data/Washington-2016-Summary.csv'\n",
    "avg_washington_weekday, avg_washington_weekend = avg_weekday_weekend(data_washington)\n",
    "\n",
    "#print out the average for weekday and weekend\n",
    "print('Average weekday ride time in washington is :{} minutes.'.format(avg_washington_weekday))\n",
    "print('Average weekend ride time in washington is :{} minutes.'.format(avg_washington_weekend))"
   ]
  },
  {
   "cell_type": "markdown",
   "metadata": {},
   "source": [
    "<a id='conclusions'></a>\n",
    "## Conclusions\n",
    "\n",
    "This is only a sampling of the data analysis process: from generating questions, wrangling the data, and to exploring the data. Normally, at this point in the data analysis process, There are also a lot of potential analyses that could be performed on the data which are not possible with only the data provided. For example, detailed location data has not been investigated. Where are the most commonly used docks? What are the most common routes? As another example, weather has potential to have a large impact on daily ridership. How much is ridership impacted when there is rain or snow? Are subscribers or customers affected more by changes in weather?"
   ]
  },
  {
   "cell_type": "code",
   "execution_count": 36,
   "metadata": {},
   "outputs": [
    {
     "data": {
      "text/plain": [
       "0"
      ]
     },
     "execution_count": 36,
     "metadata": {},
     "output_type": "execute_result"
    }
   ],
   "source": [
    "from subprocess import call\n",
    "call(['python', '-m', 'nbconvert', 'Bike_Share_Analysis.ipynb'])"
   ]
  }
 ],
 "metadata": {
  "anaconda-cloud": {},
  "kernelspec": {
   "display_name": "Python 3",
   "language": "python",
   "name": "python3"
  },
  "language_info": {
   "codemirror_mode": {
    "name": "ipython",
    "version": 3
   },
   "file_extension": ".py",
   "mimetype": "text/x-python",
   "name": "python",
   "nbconvert_exporter": "python",
   "pygments_lexer": "ipython3",
   "version": "3.7.0"
  }
 },
 "nbformat": 4,
 "nbformat_minor": 1
}
